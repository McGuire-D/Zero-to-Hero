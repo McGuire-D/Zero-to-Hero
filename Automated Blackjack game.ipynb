{
 "cells": [
  {
   "cell_type": "code",
   "execution_count": 1,
   "metadata": {},
   "outputs": [],
   "source": [
    "# messing around with black jack codgind adding a dealer vs player\n",
    "import random\n",
    "\n",
    "def blackjack2():\n",
    "    a = random.randint(1,11)\n",
    "    b = random.randint(1,11)\n",
    "    c = random.randint(1,11)\n",
    "    a1 = random.randint(1,11)\n",
    "    b2 = random.randint(1,11)\n",
    "    c3 = random.randint(1,11)\n",
    "    \n",
    "    dealer = (a,b,c)\n",
    "    player = (a1,b2,c3)\n",
    "    \n",
    "    if 11 in (player) and sum (dealer) <= 31:\n",
    "        return sum(player)-10\n",
    "    elif 11 in (dealer) and sum (dealer) <= 31:\n",
    "        return sum(dealer)-10\n",
    "    elif sum(dealer) <= 21 and sum(dealer) >= sum(player):\n",
    "        return('You lose')\n",
    "    elif sum(player) <= 21 and sum(player) >= sum(player):\n",
    "        return('You Win')\n",
    "    elif sum(dealer) > 21  and sum(player) < 21:\n",
    "        return('Dealer Bust, You win')\n",
    "    else:\n",
    "        return('You Bust')"
   ]
  },
  {
   "cell_type": "code",
   "execution_count": 2,
   "metadata": {},
   "outputs": [
    {
     "data": {
      "text/plain": [
       "15"
      ]
     },
     "execution_count": 2,
     "metadata": {},
     "output_type": "execute_result"
    }
   ],
   "source": [
    "blackjack2()"
   ]
  },
  {
   "cell_type": "code",
   "execution_count": null,
   "metadata": {},
   "outputs": [],
   "source": []
  }
 ],
 "metadata": {
  "kernelspec": {
   "display_name": "Python 3",
   "language": "python",
   "name": "python3"
  },
  "language_info": {
   "codemirror_mode": {
    "name": "ipython",
    "version": 3
   },
   "file_extension": ".py",
   "mimetype": "text/x-python",
   "name": "python",
   "nbconvert_exporter": "python",
   "pygments_lexer": "ipython3",
   "version": "3.7.3"
  }
 },
 "nbformat": 4,
 "nbformat_minor": 2
}
